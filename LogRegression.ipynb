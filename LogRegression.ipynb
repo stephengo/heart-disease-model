{
 "cells": [
  {
   "cell_type": "code",
   "execution_count": 1,
   "metadata": {
    "collapsed": true
   },
   "outputs": [],
   "source": [
    "import pandas as pd\n",
    "import numpy as np\n",
    "import os\n",
    "import sys\n",
    "import matplotlib.pyplot as plt\n",
    "from sklearn.linear_model import RandomizedLasso\n",
    "from sklearn.linear_model import RandomizedLogisticRegression\n",
    "from sklearn.feature_selection import RFE\n",
    "from sklearn.linear_model import LinearRegression\n",
    "from sklearn.linear_model import LogisticRegression\n",
    "from sklearn import cross_validation\n",
    "from sklearn import metrics\n",
    "from sklearn.metrics import roc_auc_score\n",
    "from sklearn.cluster import KMeans\n",
    "from sklearn.decomposition import PCA\n",
    "from sklearn.preprocessing import scale\n",
    "from time import time\n",
    "from ggplot import *"
   ]
  },
  {
   "cell_type": "markdown",
   "metadata": {},
   "source": [
    "<h2>Access Data</h2>"
   ]
  },
  {
   "cell_type": "code",
   "execution_count": 2,
   "metadata": {
    "collapsed": true
   },
   "outputs": [],
   "source": [
    "df = pd.read_csv(\"heart.csv\",na_values='?')"
   ]
  },
  {
   "cell_type": "code",
   "execution_count": 3,
   "metadata": {
    "collapsed": false
   },
   "outputs": [
    {
     "name": "stdout",
     "output_type": "stream",
     "text": [
      "303\n",
      "297\n"
     ]
    }
   ],
   "source": [
    "print(len(df))\n",
    "df = df.dropna()\n",
    "print(len(df))"
   ]
  },
  {
   "cell_type": "markdown",
   "metadata": {},
   "source": [
    "</h3>The original dataset had 303 rows. Six rows were deleted using listwise reduction, reducing it to 297. </h3>"
   ]
  },
  {
   "cell_type": "code",
   "execution_count": 6,
   "metadata": {
    "collapsed": false
   },
   "outputs": [
    {
     "data": {
      "text/plain": [
       "array(['Patient', 'Age', 'Sex', 'CP', 'Trestbps', 'Chol', 'Fbs', 'Restecg',\n",
       "       'Thalach', 'Exang', 'Oldpeak', 'Slope', 'Ca', 'Thal', 'Num'], dtype=object)"
      ]
     },
     "execution_count": 6,
     "metadata": {},
     "output_type": "execute_result"
    }
   ],
   "source": [
    "df.columns.values"
   ]
  },
  {
   "cell_type": "markdown",
   "metadata": {},
   "source": [
    "<h3>Attribute Types:</h3>"
   ]
  },
  {
   "cell_type": "markdown",
   "metadata": {},
   "source": [
    "</h3>1. Discrete Numeric</h3>"
   ]
  },
  {
   "cell_type": "code",
   "execution_count": 7,
   "metadata": {
    "collapsed": true
   },
   "outputs": [],
   "source": [
    "age = df.ix[:,'Age']\n",
    "trestbps = df.ix[:,'Trestbps']\n",
    "chol = df.ix[:,'Chol']\n",
    "thalach = df.ix[:,'Thalach']"
   ]
  },
  {
   "cell_type": "markdown",
   "metadata": {},
   "source": [
    "</h3>2. Continuous Numeric </h3>"
   ]
  },
  {
   "cell_type": "code",
   "execution_count": 8,
   "metadata": {
    "collapsed": true
   },
   "outputs": [],
   "source": [
    "oldpeak = df.ix[:,'Oldpeak']"
   ]
  },
  {
   "cell_type": "markdown",
   "metadata": {},
   "source": [
    "</h3>3. Nominal Categorical (dichotomous)</h3>"
   ]
  },
  {
   "cell_type": "code",
   "execution_count": 9,
   "metadata": {
    "collapsed": true
   },
   "outputs": [],
   "source": [
    "sex = df.ix[:,'Sex']\n",
    "fbs = df.ix[:,'Fbs']\n",
    "exang = df.ix[:,'Exang']"
   ]
  },
  {
   "cell_type": "markdown",
   "metadata": {},
   "source": [
    "</h3>4. Nominal Categorical (non-dichotomous) </h3>"
   ]
  },
  {
   "cell_type": "code",
   "execution_count": 10,
   "metadata": {
    "collapsed": true
   },
   "outputs": [],
   "source": [
    "cp = pd.get_dummies(df.ix[:,'CP'], prefix = 'cp')\n",
    "restecg = pd.get_dummies(df.ix[:,'Restecg'], prefix = 'r')\n",
    "slope = pd.get_dummies(df.ix[:,'Slope'], prefix = 'slope')\n",
    "thal = pd.get_dummies(df.ix[:,'Thal'], prefix = 'thal')"
   ]
  },
  {
   "cell_type": "markdown",
   "metadata": {},
   "source": [
    "</h3>In order to use non-dichotomous categorical data, dummy variables were assigned to each outcome. </h3>"
   ]
  },
  {
   "cell_type": "code",
   "execution_count": 11,
   "metadata": {
    "collapsed": true
   },
   "outputs": [],
   "source": [
    "clean_data = pd.concat([age, sex, fbs, exang, trestbps, chol, thalach, oldpeak, cp, restecg, slope, thal], axis=1)"
   ]
  },
  {
   "cell_type": "markdown",
   "metadata": {},
   "source": [
    "</h3>Convert target values to binary from {0,1,2,3,4} - Assignment requirement </h3>"
   ]
  },
  {
   "cell_type": "code",
   "execution_count": 12,
   "metadata": {
    "collapsed": true
   },
   "outputs": [],
   "source": [
    "total_num = df.ix[:,'Num']\n",
    "adj_target = []\n",
    "for i in total_num:\n",
    "\tif i == 0:\n",
    "\t\tadj_target.append(0)\n",
    "\telse:\n",
    "\t\tadj_target.append(1)\n",
    "target = pd.Series(adj_target)"
   ]
  },
  {
   "cell_type": "markdown",
   "metadata": {},
   "source": [
    "<h3>Dimensionality Reduction</h3>"
   ]
  },
  {
   "cell_type": "code",
   "execution_count": 13,
   "metadata": {
    "collapsed": true
   },
   "outputs": [],
   "source": [
    "X = clean_data.ix[:,:]\n",
    "Y = target\n",
    "names = clean_data.columns.values"
   ]
  },
  {
   "cell_type": "code",
   "execution_count": 14,
   "metadata": {
    "collapsed": false
   },
   "outputs": [
    {
     "name": "stdout",
     "output_type": "stream",
     "text": [
      "Features sorted by their score: (Stability Selection)\n",
      "[(0.505, 'thal_3.0'), (0.475, 'cp_4'), (0.4, 'Thalach'), (0.325, 'Oldpeak'), (0.28, 'thal_7.0'), (0.265, 'Exang'), (0.085, 'slope_1'), (0.02, 'slope_2'), (0.0, 'thal_6.0'), (0.0, 'slope_3'), (0.0, 'r_2'), (0.0, 'r_1'), (0.0, 'r_0'), (0.0, 'cp_3'), (0.0, 'cp_2'), (0.0, 'cp_1'), (0.0, 'Trestbps'), (0.0, 'Sex'), (0.0, 'Fbs'), (0.0, 'Chol'), (0.0, 'Age')]\n"
     ]
    }
   ],
   "source": [
    "rlasso = RandomizedLasso(alpha=0.01)\n",
    "rlasso.fit(X, Y)\n",
    "print \"Features sorted by their score: (Stability Selection)\"\n",
    "stable = sorted(zip(map(lambda x: round(x, 4), rlasso.scores_), names), reverse=True)\n",
    "print stable"
   ]
  },
  {
   "cell_type": "code",
   "execution_count": 15,
   "metadata": {
    "collapsed": false
   },
   "outputs": [
    {
     "name": "stdout",
     "output_type": "stream",
     "text": [
      "Features sorted by their rank: (RFE)\n",
      "[(1.0, 'thal_3.0'), (2.0, 'cp_4'), (3.0, 'slope_2'), (4.0, 'Exang'), (5.0, 'Sex'), (6.0, 'thal_7.0'), (7.0, 'r_0'), (8.0, 'Oldpeak'), (9.0, 'cp_1'), (10.0, 'r_1'), (11.0, 'cp_3'), (12.0, 'slope_3'), (13.0, 'slope_1'), (14.0, 'r_2'), (15.0, 'Age'), (16.0, 'Fbs'), (17.0, 'thal_6.0'), (18.0, 'Thalach'), (19.0, 'cp_2'), (20.0, 'Trestbps'), (21.0, 'Chol')]\n"
     ]
    }
   ],
   "source": [
    "lr = LinearRegression()\n",
    "rfe = RFE(lr, n_features_to_select=1)\n",
    "rfe.fit(X,Y)\n",
    "print \"Features sorted by their rank: (RFE)\"\n",
    "rfe = sorted(zip(map(lambda x: round(x, 4), rfe.ranking_), names))\n",
    "print rfe"
   ]
  },
  {
   "cell_type": "markdown",
   "metadata": {},
   "source": [
    "</h3>Reduced datasets from both algorithms:</h3>"
   ]
  },
  {
   "cell_type": "code",
   "execution_count": 16,
   "metadata": {
    "collapsed": true
   },
   "outputs": [],
   "source": [
    "lr_data = pd.concat([clean_data['cp_4'],clean_data['thal_3.0'],clean_data['Thalach'],clean_data['Oldpeak'],clean_data['thal_7.0'],clean_data['Exang']],axis=1)\n",
    "rfe_data = pd.concat([clean_data['thal_3.0'],clean_data['cp_4'],clean_data['slope_2'],clean_data['Exang'],clean_data['Sex']],axis=1)"
   ]
  },
  {
   "cell_type": "markdown",
   "metadata": {},
   "source": [
    "</h3>Set training and testing data.</h3>"
   ]
  },
  {
   "cell_type": "code",
   "execution_count": 18,
   "metadata": {
    "collapsed": true
   },
   "outputs": [],
   "source": [
    "#Train\n",
    "train_data = clean_data.ix[:24,:]\n",
    "train_lr_data = lr_data.ix[:24,:]\n",
    "train_rfe_data = rfe_data.ix[:24,:]\n",
    "train_nums = target.ix[:24]\n",
    "\n",
    "#Test\n",
    "test_data = clean_data.ix[25:,:]\n",
    "test_lr_data = lr_data.ix[25:,:]\n",
    "test_rfe_data = rfe_data.ix[25:,:]\n",
    "test_target = target.ix[25:]"
   ]
  },
  {
   "cell_type": "markdown",
   "metadata": {},
   "source": [
    "<h3>Logistic Regression</h3>"
   ]
  },
  {
   "cell_type": "code",
   "execution_count": 19,
   "metadata": {
    "collapsed": false,
    "scrolled": true
   },
   "outputs": [
    {
     "name": "stdout",
     "output_type": "stream",
     "text": [
      "Using all attributes classfied 76.10% of all values correctly.\n",
      "Using stability selection attributes classfied 78.31% of all values correctly.\n",
      "Using rfe attributes classfied 82.35% of all values correctly.\n"
     ]
    }
   ],
   "source": [
    "llr = LogisticRegression()\n",
    "llr.fit(train_data,train_nums)\n",
    "all_lr = llr.score(test_data,test_target)\n",
    "all_log = (all_lr)*100\n",
    "print \"Using all attributes classfied \" + \"{0:0.2f}\".format(all_log) + \"% of all values correctly.\"\n",
    "\n",
    "llr1 = LogisticRegression()\n",
    "llr1.fit(train_lr_data,train_nums)\n",
    "lr_lr = llr1.score(test_lr_data,test_target)\n",
    "lr_log = (lr_lr)*100\n",
    "print \"Using stability selection attributes classfied \" + \"{0:0.2f}\".format(lr_log) + \"% of all values correctly.\"\n",
    "\n",
    "llr2 = LogisticRegression()\n",
    "llr2.fit(train_rfe_data,train_nums)\n",
    "rfe_lr = llr2.score(test_rfe_data,test_target)\n",
    "rfe_log = (rfe_lr)*100\n",
    "print \"Using rfe attributes classfied \" + \"{0:0.2f}\".format(rfe_log) + \"% of all values correctly.\""
   ]
  },
  {
   "cell_type": "markdown",
   "metadata": {},
   "source": [
    "<h3>5-fold cross validation</h3>"
   ]
  },
  {
   "cell_type": "code",
   "execution_count": 20,
   "metadata": {
    "collapsed": false
   },
   "outputs": [
    {
     "name": "stdout",
     "output_type": "stream",
     "text": [
      "Accuracy of complete dataset: 81.12%\n",
      "Accuracy of Stability selection attributes: 81.80%\n",
      "Accuracy of rfe attributes: 82.49%\n"
     ]
    }
   ],
   "source": [
    "scores_all_lr = cross_validation.cross_val_score(llr, clean_data, target, cv=5)\n",
    "scores_ss_lr = cross_validation.cross_val_score(llr1, lr_data, target, cv=5)\n",
    "scores_rfe_lr = cross_validation.cross_val_score(llr2, rfe_data, target, cv=5)\n",
    "print \"Accuracy of complete dataset: \" + \"{0:0.2f}\".format(scores_all_lr.mean()*100) +\"%\"\n",
    "print \"Accuracy of Stability selection attributes: \" + \"{0:0.2f}\".format(scores_ss_lr.mean()*100) +\"%\"\n",
    "print \"Accuracy of rfe attributes: \" + \"{0:0.2f}\".format(scores_rfe_lr.mean()*100) +\"%\""
   ]
  },
  {
   "cell_type": "markdown",
   "metadata": {},
   "source": [
    "<h3>ROC Curve: RFE reduced data </h3>"
   ]
  },
  {
   "cell_type": "code",
   "execution_count": 27,
   "metadata": {
    "collapsed": false
   },
   "outputs": [
    {
     "data": {
      "image/png": "[encoded data removed]",
      "text/plain": [
       "<matplotlib.figure.Figure at 0x1175819d0>"
      ]
     },
     "metadata": {},
     "output_type": "display_data"
    },
    {
     "data": {
      "text/plain": [
       "<ggplot: (292913481)>"
      ]
     },
     "execution_count": 27,
     "metadata": {},
     "output_type": "execute_result"
    }
   ],
   "source": [
    "%matplotlib inline\n",
    "from ggplot import *\n",
    "def roc_curve(data):\n",
    "\tXtrain = data[0:24]\n",
    "\tXtest = data[25:]\n",
    "\tytrain = target[0:24]\n",
    "\tytest = target[25:]\n",
    "\n",
    "\tclf = LogisticRegression()\n",
    "\tclf.fit(Xtrain, ytrain)\n",
    "\n",
    "\tpreds = clf.predict_proba(Xtest)[:,1]\n",
    "\tfpr, tpr, _ = metrics.roc_curve(ytest, preds)\n",
    "\tdf = pd.DataFrame(dict(fpr=fpr, tpr=tpr))\n",
    "\treturn ggplot(df, aes(x='fpr', y='tpr')) +\\\n",
    "  \t\tgeom_line() +\\\n",
    "    \tgeom_abline(linetype='dashed')\n",
    "roc_curve(rfe_data)\n"
   ]
  },
  {
   "cell_type": "markdown",
   "metadata": {},
   "source": [
    "<h3>Area under curve: RFE reduced data</h3>"
   ]
  },
  {
   "cell_type": "code",
   "execution_count": 28,
   "metadata": {
    "collapsed": false
   },
   "outputs": [
    {
     "data": {
      "image/png": "[encoded data removed]",
      "text/plain": [
       "<matplotlib.figure.Figure at 0x1175022d0>"
      ]
     },
     "metadata": {},
     "output_type": "display_data"
    },
    {
     "data": {
      "text/plain": [
       "<ggplot: (292881125)>"
      ]
     },
     "execution_count": 28,
     "metadata": {},
     "output_type": "execute_result"
    }
   ],
   "source": [
    "def auc(data):\n",
    "\tXtrain = data[0:24]\n",
    "\tXtest = data[25:]\n",
    "\tytrain = target[0:24]\n",
    "\tytest = target[25:]\n",
    "\n",
    "\tclf = LogisticRegression()\n",
    "\tclf.fit(Xtrain, ytrain)\n",
    "\n",
    "\tpreds = clf.predict_proba(Xtest)[:,1]\n",
    "\tfpr, tpr, _ = metrics.roc_curve(ytest, preds)\n",
    "\tdf = pd.DataFrame(dict(fpr=fpr, tpr=tpr))\n",
    "\tauc = metrics.auc(fpr,tpr)\n",
    "\treturn ggplot(df, aes(x='fpr', ymin=0, ymax='tpr')) +\\\n",
    "    \t   \t\tgeom_area(alpha=0.2) +\\\n",
    "    \t\t\tgeom_line(aes(y='tpr')) +\\\n",
    "    \t\t\tggtitle(\"ROC Curve w/ AUC=%s\" % str(auc))\n",
    "auc(rfe_data)"
   ]
  },
  {
   "cell_type": "code",
   "execution_count": null,
   "metadata": {
    "collapsed": true
   },
   "outputs": [],
   "source": []
  }
 ],
 "metadata": {
  "kernelspec": {
   "display_name": "Python 2",
   "language": "python",
   "name": "python2"
  },
  "language_info": {
   "codemirror_mode": {
    "name": "ipython",
    "version": 2
   },
   "file_extension": ".py",
   "mimetype": "text/x-python",
   "name": "python",
   "nbconvert_exporter": "python",
   "pygments_lexer": "ipython2",
   "version": "2.7.11"
  }
 },
 "nbformat": 4,
 "nbformat_minor": 0
}
